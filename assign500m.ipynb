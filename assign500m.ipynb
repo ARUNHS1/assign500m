{
 "cells": [
  {
   "cell_type": "markdown",
   "metadata": {},
   "source": [
    "OOP Assignment\n",
    "Challenge 1: Square Numbers and Return Their Sum\n",
    "🔴 In this challenge, you need to implement a method that squares passing variables and returns their sum.\n",
    "\n",
    "Problem statement: Implement a class Point that has three properties and a method. All these attributes (properties and methods) should be public. This problem can be broken down into two tasks:\n",
    "\n",
    "Task 1: 👉 Implement a constructor to initialize the values of three properties: x, y, and z.\n",
    "\n",
    "Task 2: 👉 Implement a method, sqSum(), in the Point class which squares x, y, and z and returns their sum.\n",
    "\n",
    "Sample properties 1, 3, 5\n",
    "\n",
    "Sample method output 35\n",
    "\n",
    "image1\n",
    "\n",
    "Coding exercise Create a class Point with three properties: x, y, and z.\n",
    "\n",
    "class Point:\n",
    "\n",
    "    def __init__(self):\n",
    "        self.x = x\n",
    "        self.y = y\n",
    "        self.z = z\n",
    "\n",
    "    def sqSum(self):\n",
    "        pass\n"
   ]
  },
  {
   "cell_type": "code",
   "execution_count": 4,
   "metadata": {},
   "outputs": [],
   "source": [
    "class Point:\n",
    "    def __init__(self,number,x,y,z)->None:\n",
    "        self.n = number\n",
    "        self.x = x\n",
    "        self.y = y\n",
    "        self.z = z\n",
    "    \n",
    "    def sqnum(self,x,y,z):\n",
    "        return(self.x*x + self.y*y + self.z*z)\n",
    "    \n",
    "    "
   ]
  },
  {
   "cell_type": "code",
   "execution_count": 5,
   "metadata": {},
   "outputs": [],
   "source": [
    "sample_property = Point(\"sampleproperty\",1,3,5)"
   ]
  },
  {
   "cell_type": "code",
   "execution_count": 36,
   "metadata": {},
   "outputs": [
    {
     "data": {
      "text/plain": [
       "35"
      ]
     },
     "execution_count": 36,
     "metadata": {},
     "output_type": "execute_result"
    }
   ],
   "source": [
    "sample_property.sqnum(1,3,5)"
   ]
  },
  {
   "cell_type": "markdown",
   "metadata": {},
   "source": [
    "Challenge 2: Implement a Calculator Class\n",
    "🔴 In this exercise, you have to implement a calculator that can perform addition, subtraction, multiplication, and division.\n",
    "\n",
    "Problem statement Write a Python class called Calculator by completing the tasks below:\n",
    "\n",
    "Task 1\n",
    "\n",
    "👉 Initializer\n",
    "\n",
    "Implement an initializer to initialize the values of num1 and num2. Properties\n",
    "\n",
    "• num1\n",
    "• num2\n",
    "Task 2\n",
    "\n",
    "👉 Methods\n",
    "\n",
    "• add() is a method that returns the sum of num1 and num2.\n",
    "• subtract() is a method that returns the subtraction of num1 from num2.\n",
    "• multiply() is a method that returns the product of num1 and num2.\n",
    "• divide() is a method that returns the division of num2 by num1.\n",
    "Input - Pass numbers (integers or floats) in the initializer.\n",
    "\n",
    "Output - addition, subtraction, division, and multiplication\n",
    "\n",
    "Sample input\n",
    "\n",
    "obj = Calculator(10, 94)\n",
    "obj.add()\n",
    "obj.subtract()\n",
    "obj.multiply()\n",
    "obj.divide()\n",
    "\n",
    "Sample output\n",
    "\n",
    "104\n",
    "84\n",
    "940\n",
    "9.4\n",
    "Coding exercise\n",
    "\n",
    "class Calculator:\n",
    "\n",
    "    def __init__(self):\n",
    "        pass\n",
    "    def add(self):\n",
    "        pass\n",
    "    def subtract(self):\n",
    "        pass\n",
    "    def multiply(self):\n",
    "        pass\n",
    "    def divide(self):\n",
    "        pass\n"
   ]
  },
  {
   "cell_type": "code",
   "execution_count": 7,
   "metadata": {},
   "outputs": [],
   "source": [
    "class Calculator:\n",
    "    def __init__(self,num1,num2)->None:\n",
    "\n",
    "        self.n1 = num1\n",
    "        self.n2 = num2\n",
    "        \n",
    "    def add(self,num1,num2):\n",
    "        return(self.n1 + self.n2)\n",
    "    \n",
    "    def substract(self,num1,num2):\n",
    "        return(self.n1-self.n2)\n",
    "    \n",
    "    def multiply(self,num1,num2):\n",
    "        return(self.n1 * self.n2)\n",
    "    \n",
    "    def divide(self,num1,num2):\n",
    "        return(self.n1/self.n2)  \n",
    "    "
   ]
  },
  {
   "cell_type": "code",
   "execution_count": 8,
   "metadata": {},
   "outputs": [],
   "source": [
    "x = Calculator(94,10) "
   ]
  },
  {
   "cell_type": "code",
   "execution_count": 124,
   "metadata": {},
   "outputs": [
    {
     "data": {
      "text/plain": [
       "(104, 84, 940, 9.4)"
      ]
     },
     "execution_count": 124,
     "metadata": {},
     "output_type": "execute_result"
    }
   ],
   "source": [
    "x.add(94,10) , x.substract(94,10), x.multiply(94,10), x.divide(94,10)  "
   ]
  },
  {
   "cell_type": "markdown",
   "metadata": {},
   "source": [
    "Challenge 3: Implement the Complete Student Class\n",
    "🔴In this challenge, you will implement a student class\n",
    "Problem statement\n",
    "\n",
    "Implement the complete Student class by completing the tasks below\n",
    "\n",
    "Task\n",
    "\n",
    "👉 Implement the following properties as private:\n",
    "\n",
    "• name\n",
    "• rollNumber\n",
    "👉 Include the following methods to get and set the private properties above:\n",
    "\n",
    "• getName()\n",
    "• setName()\n",
    "• getRollNumber()\n",
    "• setRollNumber()\n",
    "👉 Implement this class according to the rules of encapsulation.\n",
    "\n",
    "Input - Checking all the properties and methods\n",
    "\n",
    "Output - Expecting perfectly defined fields and getter/setters\n",
    "\n",
    "Note: Do not use initializers to initialize the properties. Use the set methods to do so.\n",
    "\n",
    "If the setter is not defined properly, the corresponding getter will also generate an error even if the getter is defined properly.\n",
    "\n",
    "Coding exercise\n",
    "\n",
    "class Student:\n",
    "\n",
    "    def setName(self):\n",
    "        pass\n",
    "    def getName(self):\n",
    "        pass\n",
    "    def setRollNumber(self):\n",
    "        pass\n",
    "    def getRollNumber(self):\n",
    "        pass"
   ]
  },
  {
   "cell_type": "code",
   "execution_count": 9,
   "metadata": {},
   "outputs": [],
   "source": [
    "class Student:\n",
    "    def __init__(self,n,r)->None:\n",
    "        self.name = n\n",
    "        self.roolnumber = r\n",
    "        \n",
    "        \n",
    "    def setName(self,name):\n",
    "        self.__name =name\n",
    "    \n",
    "    def getName(self):\n",
    "        return self.__name\n",
    "    \n",
    "    def setRollNumber(self,RollNumber):\n",
    "        self.__RollNumber =RollNumber\n",
    "    \n",
    "    def getRollNumber(self):\n",
    "        return self.__RollNumber"
   ]
  },
  {
   "cell_type": "markdown",
   "metadata": {},
   "source": [
    "Challenge 4: Implement a Banking Account\n",
    "🔴 In this challenge, you will implement a banking account using the concepts of inheritance.\n",
    "Problem statement\n",
    "\n",
    "Implement the basic structure of a parent class, Account, and a child class, SavingsAccount.\n",
    "\n",
    "Task 1\n",
    "\n",
    "👉 Implement properties as instance variables, and set them to None or 0.\n",
    "\n",
    "Account has the following properties:\n",
    "\n",
    "    • title\n",
    "    • Balance\n",
    "SavingsAccount has the following properties:\n",
    "\n",
    "    • interestRate\n",
    "Task 2\n",
    "\n",
    "Create an initializer for Account class. The order of parameters should be the following, where Ashish is the title, and 5000 is the account balance:\n",
    "\n",
    "Account(\"Ashish\", 5000)\n",
    "\n",
    "Task 3\n",
    "\n",
    "Implement properties as instance variables, and set them to None or 0.\n",
    "\n",
    "Create an initializer for the SavingsAccount class using the initializer of the Account class in the order below:\n",
    "\n",
    "Account(\"Ashish\", 5000, 5)\n",
    "\n",
    "Here, Ashish is the title and 5000 is the balance and 5 is the interestRate.\n",
    "\n",
    "image1\n",
    "\n",
    "Coding exercise\n",
    "\n",
    "class Account:\n",
    "\n",
    "    def __init__(self):\n",
    "        # write your code here\n",
    "        pass\n",
    "\n",
    "class SavingsAccount():\n",
    "\n",
    "    def __init__(self):\n",
    "        # write your code here\n",
    "        Pass\n",
    "\n"
   ]
  },
  {
   "cell_type": "code",
   "execution_count": 23,
   "metadata": {},
   "outputs": [],
   "source": [
    "class Account:\n",
    "    def __init__(self,title,balance)-> None:\n",
    "        self.title =title\n",
    "        self.balance = balance\n",
    "        \n",
    "class SavingsAccount(Account):\n",
    "    def __init__(self,title,balance,interest)->None:\n",
    "        super().__init__(title,balance)\n",
    "        self.interest_rate = interest"
   ]
  },
  {
   "cell_type": "code",
   "execution_count": 24,
   "metadata": {},
   "outputs": [],
   "source": [
    "account = SavingsAccount(\"Ashish\",5000,5)"
   ]
  },
  {
   "cell_type": "code",
   "execution_count": 27,
   "metadata": {},
   "outputs": [
    {
     "name": "stdout",
     "output_type": "stream",
     "text": [
      "Ashish 5000 5\n"
     ]
    }
   ],
   "source": [
    "print(account.title, account.balance, account.interest_rate)"
   ]
  },
  {
   "cell_type": "markdown",
   "metadata": {},
   "source": [
    "Challenge 5: Handling a Bank Account\n",
    "🔴 In this challenge, you will define methods for handling a bank account using concepts of inheritance.\n",
    "\n",
    "Problem statement\n",
    "\n",
    "In this challenge, we will be extending the previous challenge and implementing methods in the parent class and its corresponding child class.\n",
    "\n",
    "The initializers for both classes have been defined for you.\n",
    "\n",
    "Task 1\n",
    "\n",
    "In the Account class, implement the getBalance() method that returns balance.\n",
    "\n",
    "Task 2\n",
    "\n",
    "In the Account class, implement the deposit(amount) method that adds amount to the balance.\n",
    "\n",
    "It does not return anything.\n",
    "\n",
    "Sample input\n",
    "\n",
    "balance = 2000\n",
    "deposit(500)\n",
    "getbalance()\n",
    "Sample output\n",
    "\n",
    "2500\n",
    "Task 3\n",
    "\n",
    "In the Account class, implement the withdrawal(amount) method that subtracts the amount from the balance.\n",
    "\n",
    "It does not return anything.\n",
    "\n",
    "Sample input\n",
    "\n",
    "balance = 2000\n",
    "withdrawal(500)\n",
    "getbalance()\n",
    "Sample output\n",
    "\n",
    "1500\n",
    "Task 4\n",
    "\n",
    "In the SavingsAccount class, implement an interestAmount() method that returns the interest amount of the current balance.\n",
    "\n",
    "Below is the formula for calculating the interest amount:\n",
    "\n",
    "image1\n",
    "\n",
    "Sample input\n",
    "\n",
    "balance = 2000\n",
    "interestRate = 5\n",
    "interestAmount()\n",
    "Sample output\n",
    "\n",
    "100\n",
    "The following figure shows what the result should logically look like:\n",
    "\n",
    "image1\n",
    "\n",
    "Coding exercise\n",
    "\n",
    "Note: A new SavingsClass object is initialized at the end of the code and test results will be based on it.\n",
    "\n",
    "class Account:\n",
    "    def __init__(self, title=None, balance=0):\n",
    "        self.title = title\n",
    "        self.balance = balance\n",
    "    \n",
    "    def withdrawal(self, amount):\n",
    "        # write code here\n",
    "        pass\n",
    "\n",
    "    def deposit(self, amount):\n",
    "        # write code here\n",
    "        pass\n",
    "    def getBalance(self):\n",
    "        # write code here\n",
    "        pass\n",
    "\n",
    "class SavingsAccount(Account):\n",
    "    def __init__(self, title=None, balance=0, interestRate=0):\n",
    "            super().__init__(title, balance)\n",
    "            self.interestRate = interestRate\n",
    "    \n",
    "    def interestAmount(self):\n",
    "        # write code here\n",
    "        pass\n",
    "\n",
    "#code to test - do not edit this\n",
    "\n",
    "demo1 = SavingsAccount(\"Ashish\", 2000, 5)   # initializing a SavingsAccount object"
   ]
  },
  {
   "cell_type": "code",
   "execution_count": 110,
   "metadata": {},
   "outputs": [],
   "source": [
    "class Account:\n",
    "    \n",
    "\n",
    "    def __init__(self, title=None, balance=0, amount=0)->None:\n",
    "        self.title = title\n",
    "        self.balance = balance\n",
    "        self.amount = amount\n",
    "    \n",
    "    def getBalance(self):\n",
    "        return self.balance\n",
    "\n",
    "    def deposit(self):\n",
    "        return self.balance + self.amount\n",
    "    \n",
    "    def withdrawal(self):  \n",
    "        return (self.balance-self.amount)\n",
    "        \n",
    "        \n",
    "\n",
    "class SavingsAccount(Account):\n",
    "    def __init__(self, title=None, balance=0, interestRate=0):\n",
    "            super().__init__(title, balance)\n",
    "            self.interestRate = interestRate\n",
    "    \n",
    "    def interestAmount(self):\n",
    "        return (self.balance*self.interestRate/100)\n",
    "\n",
    "\n",
    "\n",
    "input = SavingsAccount(\"Ashish\", 2000, 5) \n",
    "input1 = Account(\"Ashish\", 2000, 500)  "
   ]
  },
  {
   "cell_type": "code",
   "execution_count": 115,
   "metadata": {},
   "outputs": [
    {
     "name": "stdout",
     "output_type": "stream",
     "text": [
      "Task1 sample output: 2000\n"
     ]
    }
   ],
   "source": [
    "print(\"Task1 sample output:\",input1.getBalance())"
   ]
  },
  {
   "cell_type": "code",
   "execution_count": 116,
   "metadata": {},
   "outputs": [
    {
     "name": "stdout",
     "output_type": "stream",
     "text": [
      "Task2 sample output: 2500\n"
     ]
    }
   ],
   "source": [
    "print(\"Task2 sample output:\",input1.deposit())"
   ]
  },
  {
   "cell_type": "code",
   "execution_count": 117,
   "metadata": {},
   "outputs": [
    {
     "name": "stdout",
     "output_type": "stream",
     "text": [
      "Task3 sample output: 1500\n"
     ]
    }
   ],
   "source": [
    "print(\"Task3 sample output:\",input1.withdrawal())"
   ]
  },
  {
   "cell_type": "code",
   "execution_count": 118,
   "metadata": {},
   "outputs": [
    {
     "name": "stdout",
     "output_type": "stream",
     "text": [
      "Task4 sample output: 100.0\n"
     ]
    }
   ],
   "source": [
    "print(\"Task4 sample output:\",input.interestAmount())"
   ]
  }
 ],
 "metadata": {
  "kernelspec": {
   "display_name": "Python 3",
   "language": "python",
   "name": "python3"
  },
  "language_info": {
   "codemirror_mode": {
    "name": "ipython",
    "version": 3
   },
   "file_extension": ".py",
   "mimetype": "text/x-python",
   "name": "python",
   "nbconvert_exporter": "python",
   "pygments_lexer": "ipython3",
   "version": "3.12.0"
  }
 },
 "nbformat": 4,
 "nbformat_minor": 2
}
